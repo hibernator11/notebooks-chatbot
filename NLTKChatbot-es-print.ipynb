{
 "cells": [
  {
   "cell_type": "markdown",
   "metadata": {},
   "source": [
    "# Construyendo un chatbot con NLTK desde cero"
   ]
  },
  {
   "cell_type": "markdown",
   "metadata": {},
   "source": [
    "## Importamos librerías"
   ]
  },
  {
   "cell_type": "code",
   "execution_count": 1,
   "metadata": {},
   "outputs": [],
   "source": [
    "import io\n",
    "import random\n",
    "import string\n",
    "import warnings\n",
    "import numpy as np\n",
    "from sklearn.feature_extraction.text import TfidfVectorizer\n",
    "from sklearn.metrics.pairwise import cosine_similarity\n",
    "import warnings\n",
    "warnings.filterwarnings('ignore')"
   ]
  },
  {
   "cell_type": "markdown",
   "metadata": {},
   "source": [
    "## Importamos NLTK "
   ]
  },
  {
   "cell_type": "code",
   "execution_count": 2,
   "metadata": {},
   "outputs": [
    {
     "name": "stderr",
     "output_type": "stream",
     "text": [
      "[nltk_data] Downloading package punkt to /home/gustavo/nltk_data...\n",
      "[nltk_data]   Package punkt is already up-to-date!\n"
     ]
    },
    {
     "data": {
      "text/plain": [
       "True"
      ]
     },
     "execution_count": 2,
     "metadata": {},
     "output_type": "execute_result"
    }
   ],
   "source": [
    "import nltk\n",
    "from nltk.corpus import stopwords\n",
    "from nltk.stem import SnowballStemmer\n",
    "nltk.download('punkt')\n",
    "nltk.download('stopwords')"
   ]
  },
  {
   "cell_type": "markdown",
   "metadata": {},
   "source": [
    "Leemos el corpus con el texto para el chatbot\n",
    "\n",
    "Podemos utilizar una página de Wikipedia para crear el corpus. Podemos copiar el contenido en un fichero de texto.\n",
    "\n",
    "Debemos procesar el texto para para convertirlo en datos que el algoritmo pueda interpretar. Por ejemplo:\n",
    "\n",
    "* Convertir el texto a mayúsculas/minúsculas para que el algoritmo no diferencie los token.\n",
    "* Tokenización: NLTK permite tokenizar por frases (sentence tokenizer) y por palabras (word tokenizer)\n",
    "\n",
    "El paquete NLTK incluye:\n",
    "\n",
    "* Listas de stopwords\n",
    "* Stemming: obtener la raíz de una palabra. Por ejemplo, el algoritmo de Porter es un algoritmo de derivación de palabras y consiste en elimar las términaciones morfológicas comunes de las palabras en inglés, aunque es posible usarlo también en español. Es un proceso de normalización de términos muy usado en corpus basados en texto. Por ejemplo, texto lo transforma a text y canta a cant.\n",
    "* Lematización: relaciona una palabra flexionada o derivada con su forma canónica o lema. Por ejemplo, cantas, canto lo convierte a cantar. "
   ]
  },
  {
   "cell_type": "code",
   "execution_count": 3,
   "metadata": {},
   "outputs": [
    {
     "name": "stdout",
     "output_type": "stream",
     "text": [
      "un bot de charla o bot conversacional (en inglés, chatbot) es un programa que simula mantener una conversación con una persona al proveer respuestas automáticas a entradas hechas por el usuario. habitualmente, la conversación se establece mediante texto, aunque también hay modelos que disponen de una interfaz de usuario multimedia. más recientemente, algunos comienzan a utilizar programas conversores de texto a sonido (ctv), dotándolo de mayor realismo a la interacción con el usuario.\n",
      "\n",
      "para establecer una conversación han de utilizarse frases fácilmente comprensibles y que sean coherentes, aunque la mayoría de los bot conversacionales no consiguen comprender del todo. en su lugar, tienen en cuenta las palabras o frases del interlocutor, que les permitirán usar una serie de respuestas preparadas de antemano. de esta manera, el bot es capaz de seguir una conversación con más o menos lógica, pero sin saber realmente de qué está hablando.\n",
      "\n",
      "los chatbots tienen su origen en 1966, cuando joseph weizenbaum creó el primer chatbot basado en inteligencia artificial, eliza, que actuaba como terapeuta. \n",
      "\n",
      "quizás comenzaron como un juego, pero hoy en día están muy extendidos. muchos tienen su razón de ser e incluso esa razón es de bastante utilidad para todos. los bots más clásicos y tempranos, además de eliza, son smarterchild, parry y shrdlu; entre los más recientes se encuentran racter, a.l.i.c.e o jabberwacky, dr. abuse (de barres&boronat), muy parecido a eliza y semantycs (de full on net) que ya puede interactuar con diversos canales y extraer información de erp.\n",
      "\n",
      "los más avanzados, son programas capaces de mantener una conversación lógica y pseudo inteligente en un determinado idioma. algunos de los más complejos están programados en c++, delphi o similares, y otros más sencillos en action script, php, vbscript, etc. pueden ser consultados además de mediante software instalado en un ordenador personal, vía web y vía aplicaciones instaladas en teléfonos inteligentes (entre las mismas, cabe mencionar a siri y simsimi, entre otros muchos). existen muchos otros con amplia presencia en redes de irc, donde son conocidos como bots de charla o bots de chat.\n",
      "\n",
      "en el año 2005, microsoft y colloquis inc. (empresa de automatización conversacional radicada en silicon valley), pusieron en funcionamiento un robot conversacional para encarta. después de la experiencia con smarterchild, decidieron dar un paso adelante produciendo un bot cualitativamente más complejo y capaz de aprender (a un nivel aún bastante básico). además, a la complejidad conversacional e intelectual se añadió la posibilidad de interactuar en diferentes idiomas, incluido el español.\n",
      "\n",
      "finalmente, cabe mencionar que la dificultad de su programación hace que conseguir un resultado decente suponga una gran inversión de recursos. sin embargo, la mejora en el desarrollo y modulación tanto de las librerías de vocabulario, como de los algoritmos de inteligencia artificial, están simplificando la elaboración de estos bots.\n",
      "\n",
      "para crear un chatbot existen páginas que ofrecen plantillas con tecnología de procesamiento de lenguaje natural (pln), la parte más compleja a la hora de desarrollarlo, ya que requiere conocimiento de programación.\n",
      "\n",
      "actualmente, la producción de estos bots se ha elevado notablemente. cada persona o empresa puede contar con un bot personalizado a sus necesidades. este, puede asumir distintas personalidades, así como aprender de las interacciones con su usuario, para poder ofrecerle una experiencia totalmente personalizada.\n",
      "\n",
      "no olvidemos que tienen muchísima utilidad a la hora de dar información rápida acerca de un sistema o zona, y que se pueden convertir en auténticos especialistas en materias muy concretas, debido a la capacidad de aprendizaje que incorporan algunos de ellos.\n",
      "\n",
      "por ejemplo, jabberwacky aprende nuevas respuestas y el contexto de ellas basado en interacciones hechas por el usuario en tiempo real, en vez de estar basadas en bases de datos estáticas. algunos de los bots conversacionales más recientes combinan aprendizaje en tiempo real con algoritmos evolutivos que optimizan su habilidad de comunicarse con cada conversación. aun así, no hay actualmente una inteligencia artificial de propósito general que soporte completamente la interacción con un bot conversacional, por esta razón algunos desarrolladores solo se concentran en la búsqueda y recuperación de información.\n",
      "\n",
      "al día de hoy, no se ha conseguido crear un bot que sea capaz de mantener una conversación lógicamente humana, debido a que carece de auténtica conciencia de sí mismo. a pesar de ello, se han conseguido grandes avances que se acercan cada vez más a la superación del conocido como \"test de turing\", que conllevaría la imposibilidad por parte del interlocutor de asegurar si mantiene una conversación con un humano o bien un bot o programa informático. existen competencias en torno al test de turing, una de ellas otorga el premio loebner al chat conversacional más avanzado.\n",
      "\n",
      "algunos bots conversacionales son integrados en sistemas de diálogo como asistentes virtuales automatizados y compañías están usándolos en vez de call centers. los bots pueden responder al usuario y asistirlo en múltiples actividades; entre ellas están aprender, buscar, recordar, conectar con otros sistemas o integrar servicios. actualmente, los bots de charla pueden operar basados completamente en inteligencias artificiales pero hay un creciente interés en usar computación basada en humanos para proveer un servicio más eficiente.\n",
      "\n",
      "esta técnica, también conocida como computación con humanos en el bucle, o human-in-the-loop computing, puede llegar a convertirse en la forma más efectiva para entrenar los bots de charla y lograr que puedan comunicarse independientemente con el usuario. también hace más relevante su capacidad para beneficiarse de un continuo bucle de retroalimentación. al tener una mayor cantidad de personas interactuando con ellos y enseñándoles como resolver problemas, su algoritmo de aprendizaje automático mejora. de esta manera asistentes personales que utilicen una combinación de inteligencia artificial y humanos tienen la capacidad de proveer una experiencia más productiva y agradable para el usuario.\n",
      "\n",
      "en 2016 se desarrollaron cada vez más chatbots para funcionar en facebook messenger. por ejemplo en la industria de viajes, el de aeroméxico vende boletos y responde a preguntas, mientras el de klm's provee el estatus de vuelos y envía los pases de abordar móviles. estos servicios por chatbot ya existían por varios años en la app wechat.\n",
      "\n",
      "en el caso del bot semantycs permite interactuar vía voz con teléfono o chat.\n",
      "\n",
      "las mismas técnicas de interacción conversacional se pueden aplicar a los asistentes virtuales por voz, por ejemplo desde 2016 se puede pedir un uber desde el dispositivo google home, que contiene la inteligencia artificial del asistente virtual google assistant, por voz, por medio de una conversación natural\n",
      "\n",
      "en la práctica, el mercado empieza a diferenciar entre aquellos bots que siguen unas reglas básicas (y que por tanto no son muy inteligentes) de los bots inteligentes.\n",
      "\n",
      "por lo tanto, se determinan varias clasificaciones referentes a los tipos de chatbots. los primeros, los chatbots basados en recuperación, son sencillos de desarrollar, ya que dan respuestas delimitadas a entradas específicas del usuario, solo responden a lo que ya tienen predefinido por el desarrollador y suelen estar enfocados a dar respuestas cortas; mientras que los segundos, los chatbots basados en generación, suelen enfocarse a conversaciones largas. su desarrollo es más complejo y necesitan almacenar gran cantidad de información a través de la interacción con el usuario, para así dar respuestas correctas.11​ son más abiertos (en cuanto permiten que el usuario interaccione libremente con el bot), se utilizan sistemas de inteligencia artificial (motores de nlp) con los que procesar la información (el input) del usuario que escribe al bot, para proponerle una respuesta.\n",
      "\n",
      "del mismo modo, existen chatbots de dominio abierto y cerrado. los chatbots de dominio abierto, no tienen ningún propósito específico, ya que generan respuestas de todo tipo, como los enfocados al servicio de atención al cliente, a diferencia de los chatbots de dominio cerrado, que están enfocados a utilizarse para tratar solo temas específicos.\n",
      "\n",
      "en el ámbito de los sistemas de inteligencia artificial, la industria tecnológica es la primera que ha empezado a apostar por ellos (sistemas como watson de ibm, luis de microsoft o dialogflow de google son claros ejemplos) donde la clave de la inteligencia del bot reside en el entrenamiento que se haga del mismo, para lo que se definen conceptos como intenciones (qué quiere decir el usuario, cuál es su intención), entidades y diálogos.\n",
      "\n",
      "los chatbots pueden utilizarse en multitud de contextos distintos y según la finalidad deseada. en contextos empresariales, son varias las funciones que pueden desarrollar los chatbots, ya sea en webs o en empresas físicas. son capaces de ejercer la función de atención al cliente de manera rápida y sencilla, de proporcionar novedades pertinentes diariamente de manera automática y de gestionar los procesos de compra y pago en línea, acompañando al cliente a agilizar el proceso.\n",
      "\n",
      "en redes sociales y aplicaciones de mensajería, son bots normalmente orientados al branding y pueden ofrecer contenidos personalizados a sus usuarios en forma de conversaciones.\n",
      "\n",
      "en educación los chatbots se utilizan, básicamente, para estructurar respuestas a dudas o consultas de forma operativa que suelen repetirse entre los estudiantes de diferentes cursos. los chatbots pueden incluir, también, enlaces para que el alumno pueda ver ciertos documentos, vídeos, infografías y demás información sobre un tema en concreto. además, también pueden ser usados para la creación de cuestionarios. \n",
      "\n",
      "dentro del ámbito educativo, los chatbots se pueden clasificar según la tarea que realizan; realizar tareas administrativas y de gestión, resolver preguntas frecuentes, acompañar y motivar al estudiante, practicar habilidades y destrezas específicas, crear simulaciones y realizar evaluaciones de aprendizaje.\n"
     ]
    }
   ],
   "source": [
    "f=open('chatbot-es.txt','r',errors = 'ignore')\n",
    "raw=f.read()\n",
    "raw = raw.lower()# converts to lowercase\n",
    "print (raw)"
   ]
  },
  {
   "cell_type": "markdown",
   "metadata": {},
   "source": [
    "## Tokenization"
   ]
  },
  {
   "cell_type": "code",
   "execution_count": 4,
   "metadata": {},
   "outputs": [
    {
     "name": "stdout",
     "output_type": "stream",
     "text": [
      "['un bot de charla o bot conversacional (en inglés, chatbot) es un programa que simula mantener una conversación con una persona al proveer respuestas automáticas a entradas hechas por el usuario.', 'habitualmente, la conversación se establece mediante texto, aunque también hay modelos que disponen de una interfaz de usuario multimedia.', 'más recientemente, algunos comienzan a utilizar programas conversores de texto a sonido (ctv), dotándolo de mayor realismo a la interacción con el usuario.', 'para establecer una conversación han de utilizarse frases fácilmente comprensibles y que sean coherentes, aunque la mayoría de los bot conversacionales no consiguen comprender del todo.', 'en su lugar, tienen en cuenta las palabras o frases del interlocutor, que les permitirán usar una serie de respuestas preparadas de antemano.', 'de esta manera, el bot es capaz de seguir una conversación con más o menos lógica, pero sin saber realmente de qué está hablando.', 'los chatbots tienen su origen en 1966, cuando joseph weizenbaum creó el primer chatbot basado en inteligencia artificial, eliza, que actuaba como terapeuta.', 'quizás comenzaron como un juego, pero hoy en día están muy extendidos.', 'muchos tienen su razón de ser e incluso esa razón es de bastante utilidad para todos.', 'los bots más clásicos y tempranos, además de eliza, son smarterchild, parry y shrdlu; entre los más recientes se encuentran racter, a.l.i.c.e o jabberwacky, dr. abuse (de barres&boronat), muy parecido a eliza y semantycs (de full on net) que ya puede interactuar con diversos canales y extraer información de erp.', 'los más avanzados, son programas capaces de mantener una conversación lógica y pseudo inteligente en un determinado idioma.', 'algunos de los más complejos están programados en c++, delphi o similares, y otros más sencillos en action script, php, vbscript, etc.', 'pueden ser consultados además de mediante software instalado en un ordenador personal, vía web y vía aplicaciones instaladas en teléfonos inteligentes (entre las mismas, cabe mencionar a siri y simsimi, entre otros muchos).', 'existen muchos otros con amplia presencia en redes de irc, donde son conocidos como bots de charla o bots de chat.', 'en el año 2005, microsoft y colloquis inc. (empresa de automatización conversacional radicada en silicon valley), pusieron en funcionamiento un robot conversacional para encarta.', 'después de la experiencia con smarterchild, decidieron dar un paso adelante produciendo un bot cualitativamente más complejo y capaz de aprender (a un nivel aún bastante básico).', 'además, a la complejidad conversacional e intelectual se añadió la posibilidad de interactuar en diferentes idiomas, incluido el español.', 'finalmente, cabe mencionar que la dificultad de su programación hace que conseguir un resultado decente suponga una gran inversión de recursos.', 'sin embargo, la mejora en el desarrollo y modulación tanto de las librerías de vocabulario, como de los algoritmos de inteligencia artificial, están simplificando la elaboración de estos bots.', 'para crear un chatbot existen páginas que ofrecen plantillas con tecnología de procesamiento de lenguaje natural (pln), la parte más compleja a la hora de desarrollarlo, ya que requiere conocimiento de programación.', 'actualmente, la producción de estos bots se ha elevado notablemente.', 'cada persona o empresa puede contar con un bot personalizado a sus necesidades.', 'este, puede asumir distintas personalidades, así como aprender de las interacciones con su usuario, para poder ofrecerle una experiencia totalmente personalizada.', 'no olvidemos que tienen muchísima utilidad a la hora de dar información rápida acerca de un sistema o zona, y que se pueden convertir en auténticos especialistas en materias muy concretas, debido a la capacidad de aprendizaje que incorporan algunos de ellos.', 'por ejemplo, jabberwacky aprende nuevas respuestas y el contexto de ellas basado en interacciones hechas por el usuario en tiempo real, en vez de estar basadas en bases de datos estáticas.', 'algunos de los bots conversacionales más recientes combinan aprendizaje en tiempo real con algoritmos evolutivos que optimizan su habilidad de comunicarse con cada conversación.', 'aun así, no hay actualmente una inteligencia artificial de propósito general que soporte completamente la interacción con un bot conversacional, por esta razón algunos desarrolladores solo se concentran en la búsqueda y recuperación de información.', 'al día de hoy, no se ha conseguido crear un bot que sea capaz de mantener una conversación lógicamente humana, debido a que carece de auténtica conciencia de sí mismo.', 'a pesar de ello, se han conseguido grandes avances que se acercan cada vez más a la superación del conocido como \"test de turing\", que conllevaría la imposibilidad por parte del interlocutor de asegurar si mantiene una conversación con un humano o bien un bot o programa informático.', 'existen competencias en torno al test de turing, una de ellas otorga el premio loebner al chat conversacional más avanzado.', 'algunos bots conversacionales son integrados en sistemas de diálogo como asistentes virtuales automatizados y compañías están usándolos en vez de call centers.', 'los bots pueden responder al usuario y asistirlo en múltiples actividades; entre ellas están aprender, buscar, recordar, conectar con otros sistemas o integrar servicios.', 'actualmente, los bots de charla pueden operar basados completamente en inteligencias artificiales pero hay un creciente interés en usar computación basada en humanos para proveer un servicio más eficiente.', 'esta técnica, también conocida como computación con humanos en el bucle, o human-in-the-loop computing, puede llegar a convertirse en la forma más efectiva para entrenar los bots de charla y lograr que puedan comunicarse independientemente con el usuario.', 'también hace más relevante su capacidad para beneficiarse de un continuo bucle de retroalimentación.', 'al tener una mayor cantidad de personas interactuando con ellos y enseñándoles como resolver problemas, su algoritmo de aprendizaje automático mejora.', 'de esta manera asistentes personales que utilicen una combinación de inteligencia artificial y humanos tienen la capacidad de proveer una experiencia más productiva y agradable para el usuario.', 'en 2016 se desarrollaron cada vez más chatbots para funcionar en facebook messenger.', \"por ejemplo en la industria de viajes, el de aeroméxico vende boletos y responde a preguntas, mientras el de klm's provee el estatus de vuelos y envía los pases de abordar móviles.\", 'estos servicios por chatbot ya existían por varios años en la app wechat.', 'en el caso del bot semantycs permite interactuar vía voz con teléfono o chat.', 'las mismas técnicas de interacción conversacional se pueden aplicar a los asistentes virtuales por voz, por ejemplo desde 2016 se puede pedir un uber desde el dispositivo google home, que contiene la inteligencia artificial del asistente virtual google assistant, por voz, por medio de una conversación natural\\n\\nen la práctica, el mercado empieza a diferenciar entre aquellos bots que siguen unas reglas básicas (y que por tanto no son muy inteligentes) de los bots inteligentes.', 'por lo tanto, se determinan varias clasificaciones referentes a los tipos de chatbots.', 'los primeros, los chatbots basados en recuperación, son sencillos de desarrollar, ya que dan respuestas delimitadas a entradas específicas del usuario, solo responden a lo que ya tienen predefinido por el desarrollador y suelen estar enfocados a dar respuestas cortas; mientras que los segundos, los chatbots basados en generación, suelen enfocarse a conversaciones largas.', 'su desarrollo es más complejo y necesitan almacenar gran cantidad de información a través de la interacción con el usuario, para así dar respuestas correctas.11\\u200b son más abiertos (en cuanto permiten que el usuario interaccione libremente con el bot), se utilizan sistemas de inteligencia artificial (motores de nlp) con los que procesar la información (el input) del usuario que escribe al bot, para proponerle una respuesta.', 'del mismo modo, existen chatbots de dominio abierto y cerrado.', 'los chatbots de dominio abierto, no tienen ningún propósito específico, ya que generan respuestas de todo tipo, como los enfocados al servicio de atención al cliente, a diferencia de los chatbots de dominio cerrado, que están enfocados a utilizarse para tratar solo temas específicos.', 'en el ámbito de los sistemas de inteligencia artificial, la industria tecnológica es la primera que ha empezado a apostar por ellos (sistemas como watson de ibm, luis de microsoft o dialogflow de google son claros ejemplos) donde la clave de la inteligencia del bot reside en el entrenamiento que se haga del mismo, para lo que se definen conceptos como intenciones (qué quiere decir el usuario, cuál es su intención), entidades y diálogos.', 'los chatbots pueden utilizarse en multitud de contextos distintos y según la finalidad deseada.', 'en contextos empresariales, son varias las funciones que pueden desarrollar los chatbots, ya sea en webs o en empresas físicas.', 'son capaces de ejercer la función de atención al cliente de manera rápida y sencilla, de proporcionar novedades pertinentes diariamente de manera automática y de gestionar los procesos de compra y pago en línea, acompañando al cliente a agilizar el proceso.', 'en redes sociales y aplicaciones de mensajería, son bots normalmente orientados al branding y pueden ofrecer contenidos personalizados a sus usuarios en forma de conversaciones.', 'en educación los chatbots se utilizan, básicamente, para estructurar respuestas a dudas o consultas de forma operativa que suelen repetirse entre los estudiantes de diferentes cursos.', 'los chatbots pueden incluir, también, enlaces para que el alumno pueda ver ciertos documentos, vídeos, infografías y demás información sobre un tema en concreto.', 'además, también pueden ser usados para la creación de cuestionarios.', 'dentro del ámbito educativo, los chatbots se pueden clasificar según la tarea que realizan; realizar tareas administrativas y de gestión, resolver preguntas frecuentes, acompañar y motivar al estudiante, practicar habilidades y destrezas específicas, crear simulaciones y realizar evaluaciones de aprendizaje.']\n"
     ]
    }
   ],
   "source": [
    "sent_tokens = nltk.sent_tokenize(raw)# converts to list of sentences \n",
    "word_tokens = nltk.word_tokenize(raw)# converts to list of words\n",
    "print (sent_tokens)"
   ]
  },
  {
   "cell_type": "markdown",
   "metadata": {},
   "source": [
    "## Preprocesando\n",
    "\n",
    "Analizamos los tokens para normalizarlos"
   ]
  },
  {
   "cell_type": "code",
   "execution_count": 5,
   "metadata": {},
   "outputs": [
    {
     "name": "stdout",
     "output_type": "stream",
     "text": [
      "!\"#$%&'()*+,-./:;<=>?@[\\]^_`{|}~\n",
      "{33: None, 34: None, 35: None, 36: None, 37: None, 38: None, 39: None, 40: None, 41: None, 42: None, 43: None, 44: None, 45: None, 46: None, 47: None, 58: None, 59: None, 60: None, 61: None, 62: None, 63: None, 64: None, 91: None, 92: None, 93: None, 94: None, 95: None, 96: None, 123: None, 124: None, 125: None, 126: None}\n",
      "gustavo juega al fútbol\n",
      "['gustav', 'jueg', 'al', 'futbol']\n"
     ]
    }
   ],
   "source": [
    "stemmer = SnowballStemmer('spanish')\n",
    "\n",
    "def LemTokens(tokens):\n",
    "    #return [lemmer.lemmatize(token) for token in tokens]\n",
    "    return [stemmer.stem(token) for token in tokens]\n",
    "\n",
    "# diccionario con caracteres puntuacion\n",
    "remove_punct_dict = dict((ord(punct), None) for punct in string.punctuation)\n",
    "\n",
    "def LemNormalize(text):\n",
    "    return LemTokens(nltk.word_tokenize(text.lower().translate(remove_punct_dict)))\n",
    "\n",
    "\n",
    "print(string.punctuation)\n",
    "print(remove_punct_dict)\n",
    "print(\"Gustavo\\\" juega al? fútbol!\".lower().translate(remove_punct_dict))\n",
    "print(LemNormalize(\"Gustavo\\\" juega al? fútbol!\"))"
   ]
  },
  {
   "cell_type": "markdown",
   "metadata": {},
   "source": [
    "Definimos una función para saludar."
   ]
  },
  {
   "cell_type": "code",
   "execution_count": 6,
   "metadata": {},
   "outputs": [],
   "source": [
    "GREETING_INPUTS = (\"hola\", \"que tal?\")\n",
    "GREETING_RESPONSES = [\"Buenos días\", \"hola\"]\n",
    "def greeting(sentence):\n",
    " \n",
    "    for word in sentence.split():\n",
    "        if word.lower() in GREETING_INPUTS:\n",
    "            return random.choice(GREETING_RESPONSES)"
   ]
  },
  {
   "cell_type": "markdown",
   "metadata": {},
   "source": [
    "### Generamos la respuesta"
   ]
  },
  {
   "cell_type": "markdown",
   "metadata": {},
   "source": [
    "### Bag of Words\n",
    "\n",
    "Después del preproceso inicial, transformamos el texto en un vector (array) de números. El bag-of-words es la representación del texto que describe las ocurrencias de las palabras en un documento incluyendo el vocabulario de palabras y el número de ocurrencias. No se tiene en cuenta ni dónde ocurren ni el orden, solo tiene en cuenta si las palabras aparecen en el texto.\n",
    "\n",
    "En el caso de bag-of-words los documentos se consideran similares si contienen texto similar. Por ejemplo, {Gustavo, juega, al, fútbol} y vectorizamos el texto \"Gustavo juega\", tendríamos el siguiente vector: (1,1,0,0).\n",
    "\n",
    "\n",
    "**TF-IDF**\n",
    "\n",
    "Term Frequency: la frecuenca de las palabras en un documento.\n",
    "\n",
    "TF = (Número de veces que el término t aparece en un documento)/(Número de términos del documento)\n",
    "\n",
    "Inverse Document Frequency: mide la relevancia de una palabra para un documento en una colección.\n",
    "\n",
    "IDF = 1+log(N/n), donde, N el número de documentos y n es el número de documentos donde el térmimo t aparece.\n",
    "\n",
    "\n",
    "**Similitud del coseno**\n",
    "Es una medida de la similitud existente entre dos vectores. Mide el ángulo entre dos vectores.\n",
    "\n"
   ]
  },
  {
   "cell_type": "markdown",
   "metadata": {},
   "source": [
    "Para generar una respuesta los conceptos de similitud se tienen en cuenta. Definimos una función de respuesta que busca una o más palabras y devuelve una posible respuesta. Si no encuentra nada devuelve: ”Lo siento! No entiendo tu pregunta”"
   ]
  },
  {
   "cell_type": "code",
   "execution_count": 7,
   "metadata": {},
   "outputs": [
    {
     "name": "stdout",
     "output_type": "stream",
     "text": [
      "['un bot de charla o bot conversacional (en inglés, chatbot) es un programa que simula mantener una conversación con una persona al proveer respuestas automáticas a entradas hechas por el usuario.']\n",
      "con el indice -1 accedemos al ultimo valor del vector\n",
      "[[0.22690126 0.         0.         0.         0.         0.\n",
      "  0.21089344 0.         0.         0.         0.         0.\n",
      "  0.         0.         0.         0.         0.         0.\n",
      "  0.         0.19940077 0.         0.         0.         0.\n",
      "  0.         0.         0.         0.         0.         0.\n",
      "  0.         0.         0.         0.         0.         0.\n",
      "  0.         0.         0.         0.3205251  0.         0.\n",
      "  0.         0.         0.         0.         0.         0.\n",
      "  0.         0.         0.         0.         0.         0.\n",
      "  0.         0.         1.        ]]\n",
      "[0.22690126 0.         0.         0.         0.         0.\n",
      " 0.21089344 0.         0.         0.         0.         0.\n",
      " 0.         0.         0.         0.         0.         0.\n",
      " 0.         0.19940077 0.         0.         0.         0.\n",
      " 0.         0.         0.         0.         0.         0.\n",
      " 0.         0.         0.         0.         0.         0.\n",
      " 0.         0.         0.         0.3205251  0.         0.\n",
      " 0.         0.         0.         0.         0.         0.\n",
      " 0.         0.         0.         0.         0.         0.\n",
      " 0.         0.         1.        ]\n",
      "[28 29 30 31 32 33 34 35 36 37 38 54 40 41 42 43 44 45 46 47 48 49 50 51\n",
      " 55 27 26 25  1  2  3  4  5  7  8  9 10 11 52 12 14 15 16 17 18 20 21 22\n",
      " 23 24 13 53 19  6  0 39 56]\n",
      "56\n"
     ]
    }
   ],
   "source": [
    "ejemplo = \"un bot de charla o bot conversacional (en inglés, chatbot) es un programa que simula mantener una conversación con una persona al proveer respuestas automáticas a entradas hechas por el usuario.\"\n",
    "sent_tokens_ejemplo = nltk.sent_tokenize(ejemplo)# converts to list of sentences \n",
    "sent_tokens.append(\"Que es un chatbot?\")\n",
    "\n",
    "print(sent_tokens_ejemplo);\n",
    "\n",
    "# Definimos tfidf\n",
    "TfidfVec = TfidfVectorizer(tokenizer=LemNormalize, stop_words=stopwords.words(\"spanish\"))\n",
    "tfidf = TfidfVec.fit_transform(sent_tokens)\n",
    "\n",
    "#print(sent_tokens)\n",
    "#print(tfidf[-1])\n",
    "print(\"con el indice -1 accedemos al ultimo valor del vector\")\n",
    "#print(tfidf[1])\n",
    "\n",
    "# tfidf almacena para cada frase, los tokens y su valor\n",
    "#print(tfidf)\n",
    "\n",
    "# calculamos similitud coseno comparando la ultima posicion y el array completo\n",
    "vals = cosine_similarity(tfidf[-1], tfidf)\n",
    "print(vals)\n",
    "print(vals[0])\n",
    "#print(vals.argsort()[0])\n",
    "print(vals.argsort()[0])\n",
    "idx=vals.argsort()[0][-1]\n",
    "print(idx)\n"
   ]
  },
  {
   "cell_type": "code",
   "execution_count": 8,
   "metadata": {},
   "outputs": [
    {
     "name": "stdout",
     "output_type": "stream",
     "text": [
      "Ultima posicion segunda dimension:  10\n",
      "Penultima posicion segunda dimension:  9\n"
     ]
    }
   ],
   "source": [
    "arr = np.array([[1,2,3,4,5], [6,7,8,9,10]])\n",
    "\n",
    "print('Ultima posicion segunda dimension: ', arr[1, -1])\n",
    "print('Penultima posicion segunda dimension: ', arr[1, -2])"
   ]
  },
  {
   "cell_type": "code",
   "execution_count": 9,
   "metadata": {},
   "outputs": [],
   "source": [
    "def response(user_response):\n",
    "    robo_response=''\n",
    "    \n",
    "    # incorporamos pregunta al corpus\n",
    "    sent_tokens.append(user_response)\n",
    "    \n",
    "    # Definimos tfidf\n",
    "    TfidfVec = TfidfVectorizer(tokenizer=LemNormalize, stop_words=stopwords.words(\"spanish\"))\n",
    "    tfidf = TfidfVec.fit_transform(sent_tokens)\n",
    "    \n",
    "    # calculamos similitud coseno de la ultima posicion con el vector completo\n",
    "    vals = cosine_similarity(tfidf[-1], tfidf)\n",
    "    print(vals)\n",
    "    print(vals[0])\n",
    "    print(vals.argsort()[0])\n",
    "    print(vals.argsort()[0][-2])\n",
    "    \n",
    "    # devuelve los indices que ordenan un array\n",
    "    # en la posicion -1, ultima, se encuentra la pregunta del usuario que hemos añadido\n",
    "    idx=vals.argsort()[0][-2]\n",
    "    flat = vals.flatten()\n",
    "    flat.sort()\n",
    "    req_tfidf = flat[-2]\n",
    "    if(req_tfidf==0):\n",
    "        robo_response=robo_response+\"Lo siento! No entiendo tu pregunta\"\n",
    "        return robo_response\n",
    "    else:\n",
    "        robo_response = robo_response+sent_tokens[idx]\n",
    "        return robo_response"
   ]
  },
  {
   "cell_type": "markdown",
   "metadata": {},
   "source": [
    "Finalmente, añadimos una función para solicitar el texto por pantalla."
   ]
  },
  {
   "cell_type": "code",
   "execution_count": null,
   "metadata": {},
   "outputs": [
    {
     "name": "stdout",
     "output_type": "stream",
     "text": [
      "Bot: Mi nombre is Bot y puedo contestar preguntas relacionadas con chatbots. Si deseas salir, inserta Adios!\n",
      "chatbot\n",
      "Bot: [[0.21679892 0.         0.         0.         0.         0.\n",
      "  0.20156444 0.         0.         0.         0.         0.\n",
      "  0.         0.         0.         0.         0.         0.\n",
      "  0.         0.19051469 0.         0.         0.         0.\n",
      "  0.         0.         0.         0.         0.         0.\n",
      "  0.         0.         0.         0.         0.         0.\n",
      "  0.         0.         0.         0.30719203 0.         0.\n",
      "  0.         0.         0.         0.         0.         0.\n",
      "  0.         0.         0.         0.         0.         0.\n",
      "  0.         0.         1.         1.        ]]\n",
      "[0.21679892 0.         0.         0.         0.         0.\n",
      " 0.20156444 0.         0.         0.         0.         0.\n",
      " 0.         0.         0.         0.         0.         0.\n",
      " 0.         0.19051469 0.         0.         0.         0.\n",
      " 0.         0.         0.         0.         0.         0.\n",
      " 0.         0.         0.         0.         0.         0.\n",
      " 0.         0.         0.         0.30719203 0.         0.\n",
      " 0.         0.         0.         0.         0.         0.\n",
      " 0.         0.         0.         0.         0.         0.\n",
      " 0.         0.         1.         1.        ]\n",
      "[28 29 30 31 32 33 34 35 36 37 38 54 40 41 42 43 44 45 46 47 48 49 50 51\n",
      " 55 27 26 25  1  2  3  4  5  7  8  9 10 11 52 12 14 15 16 17 18 20 21 22\n",
      " 23 24 13 53 19  6  0 39 56 57]\n",
      "56\n",
      "Que es un chatbot?\n",
      "chatbot\n",
      "Bot: [[0.21679892 0.         0.         0.         0.         0.\n",
      "  0.20156444 0.         0.         0.         0.         0.\n",
      "  0.         0.         0.         0.         0.         0.\n",
      "  0.         0.19051469 0.         0.         0.         0.\n",
      "  0.         0.         0.         0.         0.         0.\n",
      "  0.         0.         0.         0.         0.         0.\n",
      "  0.         0.         0.         0.30719203 0.         0.\n",
      "  0.         0.         0.         0.         0.         0.\n",
      "  0.         0.         0.         0.         0.         0.\n",
      "  0.         0.         1.         1.        ]]\n",
      "[0.21679892 0.         0.         0.         0.         0.\n",
      " 0.20156444 0.         0.         0.         0.         0.\n",
      " 0.         0.         0.         0.         0.         0.\n",
      " 0.         0.19051469 0.         0.         0.         0.\n",
      " 0.         0.         0.         0.         0.         0.\n",
      " 0.         0.         0.         0.         0.         0.\n",
      " 0.         0.         0.         0.30719203 0.         0.\n",
      " 0.         0.         0.         0.         0.         0.\n",
      " 0.         0.         0.         0.         0.         0.\n",
      " 0.         0.         1.         1.        ]\n",
      "[28 29 30 31 32 33 34 35 36 37 38 54 40 41 42 43 44 45 46 47 48 49 50 51\n",
      " 55 27 26 25  1  2  3  4  5  7  8  9 10 11 52 12 14 15 16 17 18 20 21 22\n",
      " 23 24 13 53 19  6  0 39 56 57]\n",
      "56\n",
      "Que es un chatbot?\n",
      "a que juegas?\n",
      "Bot: [[0.         0.         0.         0.         0.         0.\n",
      "  0.         0.34204839 0.         0.         0.         0.\n",
      "  0.         0.         0.         0.         0.         0.\n",
      "  0.         0.         0.         0.         0.         0.\n",
      "  0.         0.         0.         0.         0.         0.\n",
      "  0.         0.         0.         0.         0.         0.\n",
      "  0.         0.         0.         0.         0.         0.\n",
      "  0.         0.         0.         0.         0.         0.\n",
      "  0.         0.         0.         0.         0.         0.\n",
      "  0.         0.         0.         1.        ]]\n",
      "[0.         0.         0.         0.         0.         0.\n",
      " 0.         0.34204839 0.         0.         0.         0.\n",
      " 0.         0.         0.         0.         0.         0.\n",
      " 0.         0.         0.         0.         0.         0.\n",
      " 0.         0.         0.         0.         0.         0.\n",
      " 0.         0.         0.         0.         0.         0.\n",
      " 0.         0.         0.         0.         0.         0.\n",
      " 0.         0.         0.         0.         0.         0.\n",
      " 0.         0.         0.         0.         0.         0.\n",
      " 0.         0.         0.         1.        ]\n",
      "[ 0 31 32 33 34 35 36 37 38 39 40 41 42 43 44 45 46 47 48 49 50 51 52 53\n",
      " 54 55 30 29 28 27  1  2  3  4  5  6  8  9 10 11 12 56 13 15 16 17 18 19\n",
      " 20 21 22 23 24 25 26 14  7 57]\n",
      "7\n",
      "quizás comenzaron como un juego, pero hoy en día están muy extendidos.\n",
      "chabot?\n",
      "Bot: [[0. 0. 0. 0. 0. 0. 0. 0. 0. 0. 0. 0. 0. 0. 0. 0. 0. 0. 0. 0. 0. 0. 0. 0.\n",
      "  0. 0. 0. 0. 0. 0. 0. 0. 0. 0. 0. 0. 0. 0. 0. 0. 0. 0. 0. 0. 0. 0. 0. 0.\n",
      "  0. 0. 0. 0. 0. 0. 0. 0. 0. 1.]]\n",
      "[0. 0. 0. 0. 0. 0. 0. 0. 0. 0. 0. 0. 0. 0. 0. 0. 0. 0. 0. 0. 0. 0. 0. 0.\n",
      " 0. 0. 0. 0. 0. 0. 0. 0. 0. 0. 0. 0. 0. 0. 0. 0. 0. 0. 0. 0. 0. 0. 0. 0.\n",
      " 0. 0. 0. 0. 0. 0. 0. 0. 0. 1.]\n",
      "[ 0 31 32 33 34 35 36 37 38 39 40 41 42 43 44 45 46 47 48 49 50 51 52 53\n",
      " 54 55 30 29 28 27  1  2  3  4  5  6  7  8  9 10 11 12 56 13 15 16 17 18\n",
      " 19 20 21 22 23 24 25 26 14 57]\n",
      "14\n",
      "Lo siento! No entiendo tu pregunta\n",
      "chatbot\n",
      "Bot: [[0.21679892 0.         0.         0.         0.         0.\n",
      "  0.20156444 0.         0.         0.         0.         0.\n",
      "  0.         0.         0.         0.         0.         0.\n",
      "  0.         0.19051469 0.         0.         0.         0.\n",
      "  0.         0.         0.         0.         0.         0.\n",
      "  0.         0.         0.         0.         0.         0.\n",
      "  0.         0.         0.         0.30719203 0.         0.\n",
      "  0.         0.         0.         0.         0.         0.\n",
      "  0.         0.         0.         0.         0.         0.\n",
      "  0.         0.         1.         1.        ]]\n",
      "[0.21679892 0.         0.         0.         0.         0.\n",
      " 0.20156444 0.         0.         0.         0.         0.\n",
      " 0.         0.         0.         0.         0.         0.\n",
      " 0.         0.19051469 0.         0.         0.         0.\n",
      " 0.         0.         0.         0.         0.         0.\n",
      " 0.         0.         0.         0.         0.         0.\n",
      " 0.         0.         0.         0.30719203 0.         0.\n",
      " 0.         0.         0.         0.         0.         0.\n",
      " 0.         0.         0.         0.         0.         0.\n",
      " 0.         0.         1.         1.        ]\n",
      "[28 29 30 31 32 33 34 35 36 37 38 54 40 41 42 43 44 45 46 47 48 49 50 51\n",
      " 55 27 26 25  1  2  3  4  5  7  8  9 10 11 52 12 14 15 16 17 18 20 21 22\n",
      " 23 24 13 53 19  6  0 39 56 57]\n",
      "56\n",
      "Que es un chatbot?\n"
     ]
    }
   ],
   "source": [
    "flag=True\n",
    "print(\"ATI-UA: Mi nombre is ATI-UA y puedo contestar preguntas relacionadas con chatbots. Si deseas salir, inserta Adios!\")\n",
    "while(flag==True):\n",
    "    user_response = input()\n",
    "    user_response=user_response.lower()\n",
    "    if(user_response!='adios'):\n",
    "        if(user_response=='Gracias' or user_response=='Muchas gracias' ):\n",
    "            flag=False\n",
    "            print(\"ATI-UA: De nada.\")\n",
    "        else:\n",
    "            if(greeting(user_response)!=None):\n",
    "                print(\"ATI-UA: \"+greeting(user_response))\n",
    "            else:\n",
    "                print(\"ATI-UA: \",end=\"\")\n",
    "                print(response(user_response))\n",
    "                sent_tokens.remove(user_response)\n",
    "    else:\n",
    "        flag=False\n",
    "        print(\"ATI-UA: Hasta luego\")"
   ]
  },
  {
   "cell_type": "markdown",
   "metadata": {},
   "source": [
    "#  Referencias\n",
    "\n",
    "* https://github.com/parulnith/Building-a-Simple-Chatbot-in-Python-using-NLTK/blob/master/Chatbot.ipynb\n",
    "* https://medium.com/analytics-vidhya/building-a-simple-chatbot-in-python-using-nltk-7c8c8215ac6e\n",
    "* [Intro NLP](http://josearcosaneas.github.io/python/r/procesamiento/lenguaje/2017/01/02/procesamiento-lenguaje-natural-0.html#:~:text=El%20stemming%20consiste%20en%20extreaer,ayuda%20de%20la%20librer%C3%ADa%20NLTK.)"
   ]
  },
  {
   "cell_type": "code",
   "execution_count": null,
   "metadata": {},
   "outputs": [],
   "source": []
  }
 ],
 "metadata": {
  "kernelspec": {
   "display_name": "Python 3",
   "language": "python",
   "name": "python3"
  },
  "language_info": {
   "codemirror_mode": {
    "name": "ipython",
    "version": 3
   },
   "file_extension": ".py",
   "mimetype": "text/x-python",
   "name": "python",
   "nbconvert_exporter": "python",
   "pygments_lexer": "ipython3",
   "version": "3.6.9"
  }
 },
 "nbformat": 4,
 "nbformat_minor": 4
}
